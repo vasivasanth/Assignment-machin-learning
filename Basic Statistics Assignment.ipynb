{
 "cells": [
  {
   "cell_type": "code",
   "execution_count": 1,
   "id": "332e3ab2",
   "metadata": {},
   "outputs": [],
   "source": [
    "import numpy as np"
   ]
  },
  {
   "cell_type": "code",
   "execution_count": 2,
   "id": "f18a2ef8",
   "metadata": {},
   "outputs": [],
   "source": [
    "def basic_statics(array):\n",
    "    #Mean\n",
    "    mean = np.mean(array)\n",
    "    #Median\n",
    "    median = np.median(array)\n",
    "    #Variance\n",
    "    var = np.var(array)\n",
    "    #Standard Deviation\n",
    "    std = np.std(array)\n",
    "    #Percentile\n",
    "    percent25 = np.percentile(array, 25)\n",
    "    percent50 = np.percentile(array, 50)\n",
    "    percent75 = np.percentile(array, 75)\n",
    "    \n",
    "    print(\"The Mean ----> {}\".format(mean))\n",
    "    print(\"The Median ----> {}\".format(median))\n",
    "    print(\"The Variance ----> {}\".format(var))\n",
    "    print(\"The Standard Deviation ----> {}\".format(std))\n",
    "    print(\"The Percentiles  \\n25% ----> {0} \\n50% ----> {1} \\n75% ----> {2}\".format(percent25, percent50, percent75))"
   ]
  },
  {
   "cell_type": "code",
   "execution_count": 3,
   "id": "963af348",
   "metadata": {},
   "outputs": [
    {
     "name": "stdout",
     "output_type": "stream",
     "text": [
      "Enter the number of arrays : 2000\n"
     ]
    }
   ],
   "source": [
    "n = int(input(\"Enter the number of arrays : \"))\n",
    "array = np.random.randint(0,100,(1,n))"
   ]
  },
  {
   "cell_type": "code",
   "execution_count": 4,
   "id": "af52b426",
   "metadata": {},
   "outputs": [
    {
     "name": "stdout",
     "output_type": "stream",
     "text": [
      "The Mean ----> 49.891\n",
      "The Median ----> 50.0\n",
      "The Variance ----> 822.4051189999999\n",
      "The Standard Deviation ----> 28.67760657725815\n",
      "The Percentiles  \n",
      "25% ----> 25.0 \n",
      "50% ----> 50.0 \n",
      "75% ----> 75.0\n"
     ]
    }
   ],
   "source": [
    "basic_statics(array)"
   ]
  },
  {
   "cell_type": "code",
   "execution_count": null,
   "id": "c14845f3",
   "metadata": {},
   "outputs": [],
   "source": []
  }
 ],
 "metadata": {
  "kernelspec": {
   "display_name": "Python 3 (ipykernel)",
   "language": "python",
   "name": "python3"
  },
  "language_info": {
   "codemirror_mode": {
    "name": "ipython",
    "version": 3
   },
   "file_extension": ".py",
   "mimetype": "text/x-python",
   "name": "python",
   "nbconvert_exporter": "python",
   "pygments_lexer": "ipython3",
   "version": "3.10.5"
  }
 },
 "nbformat": 4,
 "nbformat_minor": 5
}
